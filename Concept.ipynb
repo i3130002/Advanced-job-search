{
 "cells": [
  {
   "cell_type": "code",
   "execution_count": 4,
   "metadata": {},
   "outputs": [],
   "source": [
    "import json\n"
   ]
  },
  {
   "cell_type": "code",
   "execution_count": 26,
   "metadata": {},
   "outputs": [
    {
     "name": "stdout",
     "output_type": "stream",
     "text": [
      "{'JobId': '5689741695', 'Title': 'Developer', 'DatePosted': '2023-01-05T00:00:00-08:00', 'ExpireDate': '2023-02-04T00:00:00-08:00', 'EmployerName': 'HCL Technologies', 'Location': [{'Lat': '49.24610137939453', 'Lon': '-122.96600341796875'}], 'City': 'Burnaby', 'HoursOfWork': {'Description': ['Full-time']}, 'PeriodOfEmployment': {'Description': ['Permanent']}, 'IsFederalJob': False, 'LastUpdated': '2023-01-05T00:00:00-08:00', 'SalarySummary': 'N/A', 'Views': 0, 'ExternalSource': {'Source': [{'Url': 'https://sjobs.brassring.com/TGnewUI/Search/home/HomeWithPreLoad?partnerid=25667&siteid=5532&PageType=JobDetails&jobid=4690926', 'Source': 'HCL Technologies'}]}, 'IsNew': False}\n"
     ]
    }
   ],
   "source": [
    "jobs = []\n",
    "with open(\"Samples/BC, Canada/jobs.json\", \"rt\") as sample_json:\n",
    "    jobs = json.loads(sample_json.read())[\"result\"]\n",
    "\n",
    "for x in jobs[0:1]:\n",
    "    print(x) "
   ]
  },
  {
   "cell_type": "code",
   "execution_count": 32,
   "metadata": {},
   "outputs": [
    {
     "data": {
      "text/plain": [
       "'https://sjobs.brassring.com/TGnewUI/Search/home/HomeWithPreLoad?partnerid=25667&siteid=5532&PageType=JobDetails&jobid=4690926'"
      ]
     },
     "execution_count": 32,
     "metadata": {},
     "output_type": "execute_result"
    }
   ],
   "source": [
    "jobs[0][\"ExternalSource\"][\"Source\"][0][\"Url\"]"
   ]
  },
  {
   "cell_type": "code",
   "execution_count": 36,
   "metadata": {},
   "outputs": [],
   "source": [
    "# Based on https://codereview.stackexchange.com/a/156189/140615\n",
    "def nested_get(input_dict, nested_key):\n",
    "    internal_dict_value = input_dict\n",
    "    for k in nested_key:\n",
    "        if isinstance(k, int):\n",
    "            internal_dict_value = internal_dict_value[k]\n",
    "        else:\n",
    "            internal_dict_value = internal_dict_value.get(k, None)\n",
    "        if internal_dict_value is None:\n",
    "            return None\n",
    "    return internal_dict_value"
   ]
  },
  {
   "cell_type": "code",
   "execution_count": 37,
   "metadata": {},
   "outputs": [
    {
     "data": {
      "text/plain": [
       "'https://sjobs.brassring.com/TGnewUI/Search/home/HomeWithPreLoad?partnerid=25667&siteid=5532&PageType=JobDetails&jobid=4690926'"
      ]
     },
     "execution_count": 37,
     "metadata": {},
     "output_type": "execute_result"
    }
   ],
   "source": [
    "nested_get(jobs, [0,\"ExternalSource\",\"Source\",0,\"Url\"])"
   ]
  },
  {
   "cell_type": "code",
   "execution_count": null,
   "metadata": {},
   "outputs": [],
   "source": [
    "display_columns = ['SalarySummary', '']"
   ]
  },
  {
   "cell_type": "code",
   "execution_count": 38,
   "metadata": {},
   "outputs": [
    {
     "name": "stdout",
     "output_type": "stream",
     "text": [
      "{'JobId': '5689741695', 'Title': 'Developer', 'DatePosted': '2023-01-05T00:00:00-08:00', 'ExpireDate': '2023-02-04T00:00:00-08:00', 'EmployerName': 'HCL Technologies', 'Location': [{'Lat': '49.24610137939453', 'Lon': '-122.96600341796875'}], 'City': 'Burnaby', 'IsFederalJob': False, 'LastUpdated': '2023-01-05T00:00:00-08:00', 'SalarySummary': 'N/A', 'Views': 0, 'IsNew': False, 'HoursOfWork.Description': ['Full-time'], 'PeriodOfEmployment.Description': ['Permanent'], 'ExternalSource.Source': [{'Url': 'https://sjobs.brassring.com/TGnewUI/Search/home/HomeWithPreLoad?partnerid=25667&siteid=5532&PageType=JobDetails&jobid=4690926', 'Source': 'HCL Technologies'}], 'WorkplaceType.Id': nan, 'WorkplaceType.Description': nan}\n"
     ]
    }
   ],
   "source": [
    "import pandas as pd\n",
    "df = pd.json_normalize(jobs, sep='.')\n",
    "print(df.to_dict(orient='records')[0])"
   ]
  },
  {
   "cell_type": "code",
   "execution_count": null,
   "metadata": {},
   "outputs": [],
   "source": [
    "import requests\n",
    "url = 'https://sjobs.brassring.com/TGnewUI/Search/home/HomeWithPreLoad?partnerid=25667&siteid=5532&PageType=JobDetails&jobid=4690926'\n",
    "\n",
    "response = requests.get(url, proxies={'all': None})\n",
    "# print(response.text)\n",
    "\n",
    "print([x for x in ['relocate', 're-locate', \"job\"] if x in response.text])"
   ]
  },
  {
   "cell_type": "code",
   "execution_count": 45,
   "metadata": {},
   "outputs": [
    {
     "name": "stdout",
     "output_type": "stream",
     "text": [
      "['job', 'Canada']\n"
     ]
    }
   ],
   "source": [
    "print([x for x in ['relocate', 're-locate', \"job\", \"Canada\"] if x in response.text])"
   ]
  }
 ],
 "metadata": {
  "kernelspec": {
   "display_name": "Advanced-job-search-ZVbhcAoP",
   "language": "python",
   "name": "python3"
  },
  "language_info": {
   "codemirror_mode": {
    "name": "ipython",
    "version": 3
   },
   "file_extension": ".py",
   "mimetype": "text/x-python",
   "name": "python",
   "nbconvert_exporter": "python",
   "pygments_lexer": "ipython3",
   "version": "3.10.9"
  },
  "orig_nbformat": 4,
  "vscode": {
   "interpreter": {
    "hash": "4c9d6d5a6066b42b7e656f32d33de8d0b581ebc61a48d50c00cbcb10a4e535a6"
   }
  }
 },
 "nbformat": 4,
 "nbformat_minor": 2
}
